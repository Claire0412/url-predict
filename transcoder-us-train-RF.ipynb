{
 "cells": [
  {
   "cell_type": "markdown",
   "metadata": {},
   "source": [
    "<h2>URL Analysis Project -- Random Forest </h2>\n",
    "\n",
    "<h3>Introduction:</h3>\n",
    "\n",
    "This project is about to analyze web urls to distinguish good and bad ones."
   ]
  },
  {
   "cell_type": "markdown",
   "metadata": {},
   "source": [
    "<h3>1.1 Import:</h3><p>"
   ]
  },
  {
   "cell_type": "code",
   "execution_count": 1,
   "metadata": {
    "scrolled": true
   },
   "outputs": [
    {
     "name": "stderr",
     "output_type": "stream",
     "text": [
      "Building prefix dict from the default dictionary ...\n",
      "Loading model from cache /var/folders/5w/4pf1vf8912l7_xp0jxn1k7s40000gn/T/jieba.cache\n",
      "Loading model cost 1.672 seconds.\n",
      "Prefix dict has been built successfully.\n"
     ]
    }
   ],
   "source": [
    "import pandas as pd\n",
    "import numpy as np\n",
    "from urllib.parse import urlparse\n",
    "import jieba\n",
    "from nltk.stem import PorterStemmer\n",
    "import re\n",
    "from sklearn.model_selection import train_test_split\n",
    "# from sklearn.externals import joblib\n",
    "import joblib\n",
    "from sklearn.preprocessing import StandardScaler\n",
    "good_dateStr = '20210402'\n",
    "bad_dateStr = '20210331'\n",
    "dirPath = 'your/local/directory/path'\n",
    "good_case = pd.read_csv(dirPath + '/transcoder-us-train/us_case/us_good_case'+good_dateStr+'.txt')\n",
    "bad_case = pd.read_csv(dirPath + '/transcoder-us-train/us_case/us_bad_case'+bad_dateStr+'.txt')\n",
    "STOP_WORDS = ['-','/', '.', ':']\n",
    "ps = PorterStemmer()\n",
    "pattern = '^.*\\\\d{5}.*$'\n",
    "pattern2 = '.*([0-9]{4}[/-]?[0-9]{2}[/-]?[0-9]{2}).*'\n",
    "patternP = '.*(p=[0-9]{3,6})$'\n",
    "patternEndNum = '.*/([0-9]{3,})$'\n",
    "patternEndHTML = '.*(html|htm|php)$'\n",
    "patternStart = '.*&start=([0-9]{1,3})/?$'\n",
    "f_names = ['length', 'path_length', 'p_flag', 'start_flag', 'article', 'news_id', 'contains_date','page' , 'end_with_num', 'news', 'cat', 'dot', 'dash', 'slash', 'hash','token_num','end_with_html']\n",
    "\n",
    "jieba.add_word('category')\n",
    "jieba.add_word('news')\n",
    "jieba.add_word('article')\n",
    "jieba.add_word('page')"
   ]
  },
  {
   "cell_type": "code",
   "execution_count": 2,
   "metadata": {},
   "outputs": [],
   "source": [
    "def weighted_accuracy(pred, true):\n",
    "    assert(len(pred) == len(true))\n",
    "    num_labels = len(true)\n",
    "    num_pos = sum(true)\n",
    "    num_neg = num_labels - num_pos\n",
    "    frac_pos = num_pos/num_labels\n",
    "    weight_pos = 1/frac_pos\n",
    "    weight_neg = 1/(1-frac_pos)\n",
    "    num_pos_correct = 0\n",
    "    num_neg_correct = 0\n",
    "    for pred_i, true_i in zip(pred, true):\n",
    "        num_pos_correct += (pred_i == true_i and true_i == 1)\n",
    "        num_neg_correct += (pred_i == true_i and true_i == 0)\n",
    "    weighted_accuracy = ((weight_pos * num_pos_correct) \n",
    "                         + (weight_neg * num_neg_correct))/((weight_pos * num_pos) + (weight_neg * num_neg))\n",
    "    return weighted_accuracy"
   ]
  },
  {
   "cell_type": "markdown",
   "metadata": {},
   "source": [
    "<h3>1.2 Pre-process data:</h3><p>"
   ]
  },
  {
   "cell_type": "code",
   "execution_count": 3,
   "metadata": {},
   "outputs": [],
   "source": [
    "def get_features(url, label):\n",
    "    dict = {}\n",
    "    path = urlparse(url).path\n",
    "    dict['url'] = url\n",
    "    dict['path'] = path\n",
    "    dict['length'] = len(url)\n",
    "    dict['path_length'] = len(path)\n",
    "    url_term = jieba.cut_for_search(url)\n",
    "    url_term = [x for x in list(url_term) if x not in STOP_WORDS]\n",
    "    words = []\n",
    "    for word in url_term:\n",
    "        word = ps.stem(word)\n",
    "        words.append(word)\n",
    "    dict['token_num'] = len(words)\n",
    "    dict['news_id'] = 1 if re.match(pattern, url) else 0\n",
    "    dict['cat'] = 1 if 'categori' in url_term else 0\n",
    "    dict['news'] = 1 if 'news' in url_term else 0\n",
    "    dict['dot'] = path.count('.')\n",
    "    dict['dash'] = path.count('-')\n",
    "    dict['slash'] = path.count('/')\n",
    "    dict['hash'] = path.count('#')  \n",
    "    dict['contains_date'] = 1 if re.match(pattern2, url) else 0\n",
    "    dict['p_flag'] = 1 if re.match(patternP, url) else 0\n",
    "    dict['article'] = 1 if 'articl' in url_term else 0\n",
    "    dict['page'] = 1 if 'page' in url_term else 0\n",
    "    dict['end_with_num'] = 1 if re.match(patternEndNum, url) else 0\n",
    "    dict['start_flag'] = 1 if re.match(patternStart, url) else 0\n",
    "    dict['label'] = label\n",
    "    dict['end_with_html'] = 1 if re.match(patternEndHTML, url) else 0\n",
    "    return dict"
   ]
  },
  {
   "cell_type": "code",
   "execution_count": 4,
   "metadata": {},
   "outputs": [
    {
     "data": {
      "text/plain": [
       "list"
      ]
     },
     "execution_count": 4,
     "metadata": {},
     "output_type": "execute_result"
    }
   ],
   "source": [
    "type(STOP_WORDS)"
   ]
  },
  {
   "cell_type": "code",
   "execution_count": 5,
   "metadata": {},
   "outputs": [
    {
     "data": {
      "text/html": [
       "<div>\n",
       "<style scoped>\n",
       "    .dataframe tbody tr th:only-of-type {\n",
       "        vertical-align: middle;\n",
       "    }\n",
       "\n",
       "    .dataframe tbody tr th {\n",
       "        vertical-align: top;\n",
       "    }\n",
       "\n",
       "    .dataframe thead th {\n",
       "        text-align: right;\n",
       "    }\n",
       "</style>\n",
       "<table border=\"1\" class=\"dataframe\">\n",
       "  <thead>\n",
       "    <tr style=\"text-align: right;\">\n",
       "      <th></th>\n",
       "      <th>url</th>\n",
       "    </tr>\n",
       "  </thead>\n",
       "  <tbody>\n",
       "    <tr>\n",
       "      <th>0</th>\n",
       "      <td>https://tulsaworld.com/news/local/crime-and-co...</td>\n",
       "    </tr>\n",
       "    <tr>\n",
       "      <th>1</th>\n",
       "      <td>https://www.purdueexponent.org/campus/article_...</td>\n",
       "    </tr>\n",
       "    <tr>\n",
       "      <th>2</th>\n",
       "      <td>https://thesouthern.com/pages/local-business-s...</td>\n",
       "    </tr>\n",
       "    <tr>\n",
       "      <th>3</th>\n",
       "      <td>https://www.sacbee.com/news/california/water-a...</td>\n",
       "    </tr>\n",
       "    <tr>\n",
       "      <th>4</th>\n",
       "      <td>https://www.mcclatchydc.com/news/politics-gove...</td>\n",
       "    </tr>\n",
       "  </tbody>\n",
       "</table>\n",
       "</div>"
      ],
      "text/plain": [
       "                                                 url\n",
       "0  https://tulsaworld.com/news/local/crime-and-co...\n",
       "1  https://www.purdueexponent.org/campus/article_...\n",
       "2  https://thesouthern.com/pages/local-business-s...\n",
       "3  https://www.sacbee.com/news/california/water-a...\n",
       "4  https://www.mcclatchydc.com/news/politics-gove..."
      ]
     },
     "execution_count": 5,
     "metadata": {},
     "output_type": "execute_result"
    }
   ],
   "source": [
    "good_case.head()"
   ]
  },
  {
   "cell_type": "code",
   "execution_count": 6,
   "metadata": {},
   "outputs": [],
   "source": [
    "cases = []\n",
    "for case in good_case['url']:\n",
    "    cases.append(get_features(case,'1'))\n",
    "good_df = pd.DataFrame(cases)"
   ]
  },
  {
   "cell_type": "code",
   "execution_count": 7,
   "metadata": {},
   "outputs": [],
   "source": [
    "cases = []\n",
    "for case in bad_case['url']:\n",
    "    cases.append(get_features(case,'0'))\n",
    "bad_df = pd.DataFrame(cases)"
   ]
  },
  {
   "cell_type": "code",
   "execution_count": 8,
   "metadata": {},
   "outputs": [],
   "source": [
    "all_url = pd.concat([good_df, bad_df], axis=0).fillna('')"
   ]
  },
  {
   "cell_type": "code",
   "execution_count": 9,
   "metadata": {},
   "outputs": [],
   "source": [
    "train_feature = all_url[f_names]\n",
    "train_traget = all_url[['label']]\n",
    "x_train, x_test, y_train, y_test = train_test_split(train_feature, train_traget, random_state=22, test_size=0.2)\n",
    "# transfer = StandardScaler()\n",
    "# x_train = transfer.fit_transform(x_train)\n",
    "# x_test = transfer.transform(x_test)"
   ]
  },
  {
   "cell_type": "code",
   "execution_count": 10,
   "metadata": {},
   "outputs": [
    {
     "data": {
      "text/plain": [
       "pandas.core.frame.DataFrame"
      ]
     },
     "execution_count": 10,
     "metadata": {},
     "output_type": "execute_result"
    }
   ],
   "source": [
    "type(train_feature)"
   ]
  },
  {
   "cell_type": "code",
   "execution_count": 11,
   "metadata": {},
   "outputs": [
    {
     "data": {
      "text/plain": [
       "(126592, 17)"
      ]
     },
     "execution_count": 11,
     "metadata": {},
     "output_type": "execute_result"
    }
   ],
   "source": [
    "x_train.shape"
   ]
  },
  {
   "cell_type": "markdown",
   "metadata": {},
   "source": [
    "<h3>1.3 RandomForestClassifier with GridSearchCV:</h3><p>"
   ]
  },
  {
   "cell_type": "markdown",
   "metadata": {},
   "source": [
    "<h5>find best model with through cross validation</h5>"
   ]
  },
  {
   "cell_type": "code",
   "execution_count": 2,
   "metadata": {
    "scrolled": true
   },
   "outputs": [
    {
     "ename": "NameError",
     "evalue": "name 'train_feature' is not defined",
     "output_type": "error",
     "traceback": [
      "\u001b[0;31m---------------------------------------------------------------------------\u001b[0m",
      "\u001b[0;31mNameError\u001b[0m                                 Traceback (most recent call last)",
      "\u001b[0;32m<ipython-input-2-22759db0243e>\u001b[0m in \u001b[0;36m<module>\u001b[0;34m\u001b[0m\n\u001b[1;32m      7\u001b[0m \u001b[0mparam_dict\u001b[0m \u001b[0;34m=\u001b[0m \u001b[0;34m{\u001b[0m\u001b[0;34m\"n_estimators\"\u001b[0m\u001b[0;34m:\u001b[0m \u001b[0;34m[\u001b[0m\u001b[0;36m100\u001b[0m\u001b[0;34m,\u001b[0m\u001b[0;36m200\u001b[0m\u001b[0;34m,\u001b[0m\u001b[0;36m400\u001b[0m\u001b[0;34m,\u001b[0m\u001b[0;36m800\u001b[0m\u001b[0;34m]\u001b[0m\u001b[0;34m}\u001b[0m\u001b[0;34m\u001b[0m\u001b[0;34m\u001b[0m\u001b[0m\n\u001b[1;32m      8\u001b[0m \u001b[0mmodel\u001b[0m \u001b[0;34m=\u001b[0m \u001b[0mGridSearchCV\u001b[0m\u001b[0;34m(\u001b[0m\u001b[0mestimator\u001b[0m\u001b[0;34m,\u001b[0m \u001b[0mparam_grid\u001b[0m\u001b[0;34m=\u001b[0m\u001b[0mparam_dict\u001b[0m\u001b[0;34m,\u001b[0m \u001b[0mcv\u001b[0m\u001b[0;34m=\u001b[0m\u001b[0;36m10\u001b[0m\u001b[0;34m)\u001b[0m\u001b[0;34m\u001b[0m\u001b[0;34m\u001b[0m\u001b[0m\n\u001b[0;32m----> 9\u001b[0;31m \u001b[0mmodel\u001b[0m\u001b[0;34m.\u001b[0m\u001b[0mfit\u001b[0m\u001b[0;34m(\u001b[0m\u001b[0mtrain_feature\u001b[0m\u001b[0;34m,\u001b[0m\u001b[0mtrain_traget\u001b[0m\u001b[0;34m)\u001b[0m\u001b[0;34m\u001b[0m\u001b[0;34m\u001b[0m\u001b[0m\n\u001b[0m\u001b[1;32m     10\u001b[0m \u001b[0mjoblib\u001b[0m\u001b[0;34m.\u001b[0m\u001b[0mdump\u001b[0m\u001b[0;34m(\u001b[0m\u001b[0mmodel\u001b[0m\u001b[0;34m,\u001b[0m \u001b[0mdirPath\u001b[0m \u001b[0;34m+\u001b[0m \u001b[0;34m'/transcoder-us-train/model_us_RF.pkl'\u001b[0m\u001b[0;34m)\u001b[0m\u001b[0;34m\u001b[0m\u001b[0;34m\u001b[0m\u001b[0m\n\u001b[1;32m     11\u001b[0m \u001b[0;34m\u001b[0m\u001b[0m\n",
      "\u001b[0;31mNameError\u001b[0m: name 'train_feature' is not defined"
     ]
    }
   ],
   "source": [
    "from sklearn.ensemble import RandomForestClassifier\n",
    "import joblib\n",
    "from sklearn.model_selection import GridSearchCV\n",
    "\n",
    "\n",
    "estimator = RandomForestClassifier()\n",
    "param_dict = {\"n_estimators\": [100,200,400,800]} \n",
    "model = GridSearchCV(estimator, param_grid=param_dict, cv=10)\n",
    "model.fit(train_feature,train_traget)\n",
    "joblib.dump(model, dirPath + '/transcoder-us-train/model_us_RF.pkl')\n",
    "\n",
    "# model_test = joblib.load('/Users/lxy/machine_learning/model/transcoder/model_us.pkl')\n",
    "# y_predict = model_test.predict(x_test)"
   ]
  },
  {
   "cell_type": "code",
   "execution_count": 23,
   "metadata": {
    "scrolled": false
   },
   "outputs": [],
   "source": [
    "# best_model = RandomForestClassifier(**model.best_params_)\n",
    "# best_model.fit(train_feature,train_traget)"
   ]
  },
  {
   "cell_type": "code",
   "execution_count": 24,
   "metadata": {
    "scrolled": false
   },
   "outputs": [
    {
     "name": "stdout",
     "output_type": "stream",
     "text": [
      "<class 'sklearn.model_selection._search.GridSearchCV'>\n",
      "{'n_estimators': 200}\n",
      "GridSearchCV(cv=10, estimator=RandomForestClassifier(),\n",
      "             param_grid={'n_estimators': [100, 200, 400, 800]})\n"
     ]
    }
   ],
   "source": [
    "print(type(model))\n",
    "print(model.best_params_)\n",
    "print(model)"
   ]
  },
  {
   "cell_type": "markdown",
   "metadata": {},
   "source": [
    "<h5>calculate accuracy for best_model</h5>"
   ]
  },
  {
   "cell_type": "code",
   "execution_count": 25,
   "metadata": {},
   "outputs": [],
   "source": [
    "x_array = model.predict(x_test).astype(np.int)\n",
    "y_array = y_test.to_numpy().flatten().astype(np.int)"
   ]
  },
  {
   "cell_type": "code",
   "execution_count": 26,
   "metadata": {
    "scrolled": true
   },
   "outputs": [
    {
     "name": "stdout",
     "output_type": "stream",
     "text": [
      "weigted accuracy is: 0.9761035151523119\n",
      "test data score is: 0.9822105662285137\n",
      "training data score is: 0.9835455637007078\n"
     ]
    }
   ],
   "source": [
    "acc = weighted_accuracy(x_array, y_array)\n",
    "test_score = model.score(x_test,y_test)\n",
    "train_score = model.score(x_train,y_train)\n",
    "print(\"weigted accuracy is: \"+str(acc))\n",
    "print(\"test data score is: \"+str(test_score))\n",
    "print(\"training data score is: \"+str(train_score))"
   ]
  },
  {
   "cell_type": "code",
   "execution_count": 27,
   "metadata": {
    "scrolled": true
   },
   "outputs": [
    {
     "name": "stdout",
     "output_type": "stream",
     "text": [
      "0.9231231041456016\n"
     ]
    }
   ],
   "source": [
    "# best_score_ only exists for refit = true\n",
    "print(model.best_score_)"
   ]
  },
  {
   "cell_type": "markdown",
   "metadata": {},
   "source": [
    "<h5>classification report for test data</h5>"
   ]
  },
  {
   "cell_type": "code",
   "execution_count": 29,
   "metadata": {
    "scrolled": true
   },
   "outputs": [
    {
     "name": "stderr",
     "output_type": "stream",
     "text": [
      "/Library/Frameworks/Python.framework/Versions/3.6/lib/python3.6/site-packages/numpy/lib/arraysetops.py:565: FutureWarning: elementwise comparison failed; returning scalar instead, but in the future will perform elementwise comparison\n",
      "  mask &= (ar1 != a)\n"
     ]
    },
    {
     "name": "stdout",
     "output_type": "stream",
     "text": [
      "              precision    recall  f1-score   support\n",
      "\n",
      "         列表页       0.98      0.96      0.97      9987\n",
      "        非列表页       0.98      0.99      0.99     21661\n",
      "\n",
      "   micro avg       0.98      0.98      0.98     31648\n",
      "   macro avg       0.98      0.98      0.98     31648\n",
      "weighted avg       0.98      0.98      0.98     31648\n",
      "\n"
     ]
    }
   ],
   "source": [
    "from sklearn.metrics import classification_report\n",
    "y_predict = model.predict(x_test)\n",
    "report = classification_report(y_test, y_predict, labels=[0,1], target_names=['列表页', '非列表页'])\n",
    "print(report)"
   ]
  },
  {
   "cell_type": "markdown",
   "metadata": {},
   "source": [
    "<h5>classification report for trainning data</h5>"
   ]
  },
  {
   "cell_type": "code",
   "execution_count": 30,
   "metadata": {
    "scrolled": false
   },
   "outputs": [
    {
     "name": "stderr",
     "output_type": "stream",
     "text": [
      "/Library/Frameworks/Python.framework/Versions/3.6/lib/python3.6/site-packages/numpy/lib/arraysetops.py:565: FutureWarning: elementwise comparison failed; returning scalar instead, but in the future will perform elementwise comparison\n",
      "  mask &= (ar1 != a)\n"
     ]
    },
    {
     "name": "stdout",
     "output_type": "stream",
     "text": [
      "              precision    recall  f1-score   support\n",
      "\n",
      "         列表页       0.98      0.96      0.97     39981\n",
      "        非列表页       0.98      0.99      0.99     86611\n",
      "\n",
      "   micro avg       0.98      0.98      0.98    126592\n",
      "   macro avg       0.98      0.98      0.98    126592\n",
      "weighted avg       0.98      0.98      0.98    126592\n",
      "\n"
     ]
    }
   ],
   "source": [
    "y_predict = model.predict(x_train)\n",
    "report = classification_report(y_train, y_predict, labels=[0,1], target_names=['列表页', '非列表页'])\n",
    "print(report)"
   ]
  },
  {
   "cell_type": "markdown",
   "metadata": {},
   "source": [
    "<h3>1.4 Tests</h3><p>"
   ]
  },
  {
   "cell_type": "code",
   "execution_count": 32,
   "metadata": {},
   "outputs": [
    {
     "data": {
      "text/plain": [
       "'page'"
      ]
     },
     "execution_count": 32,
     "metadata": {},
     "output_type": "execute_result"
    }
   ],
   "source": [
    "ps.stem('page')"
   ]
  },
  {
   "cell_type": "code",
   "execution_count": 33,
   "metadata": {
    "scrolled": true
   },
   "outputs": [
    {
     "name": "stdout",
     "output_type": "stream",
     "text": [
      "everything is ok\n"
     ]
    }
   ],
   "source": [
    "print('everything is ok')"
   ]
  },
  {
   "cell_type": "markdown",
   "metadata": {},
   "source": [
    "<h3>1.5 Test for particular url</h3><p>"
   ]
  },
  {
   "cell_type": "code",
   "execution_count": 40,
   "metadata": {
    "scrolled": true
   },
   "outputs": [],
   "source": [
    "model_us_test = joblib.load(dirPath + '/transcoder-us-train/model_us_10.pkl')"
   ]
  },
  {
   "cell_type": "code",
   "execution_count": 41,
   "metadata": {},
   "outputs": [],
   "source": [
    "def get_features_test(url):\n",
    "    dict = {}\n",
    "    path = urlparse(url).path\n",
    "    dict['path'] = path\n",
    "    dict['length'] = len(url)\n",
    "    dict['path_length'] = len(path)\n",
    "    url_term = jieba.cut_for_search(url)\n",
    "    print(url_term)\n",
    "    url_term = [x for x in list(url_term) if x not in STOP_WORDS]\n",
    "    words = []\n",
    "    for word in url_term:\n",
    "        word = ps.stem(word)\n",
    "        words.append(word)\n",
    "    dict['token_num'] = len(words)\n",
    "    dict['news_id'] = 1 if re.match(pattern, url) else 0\n",
    "    dict['cat'] = 1 if 'category' in url_term else 0\n",
    "    dict['news'] = 1 if 'news' in url_term else 0\n",
    "    dict['dot'] = path.count('.')\n",
    "    dict['dash'] = path.count('-')\n",
    "    dict['slash'] = path.count('/')\n",
    "    dict['hash'] = path.count('#')\n",
    "    dict['p_flag'] = 1 if re.match(patternP, url) else 0\n",
    "    dict['article'] = 1 if 'article' in url_term else 0\n",
    "    dict['page'] = 1 if 'page' in url_term else 0\n",
    "    dict['end_with_num'] = 1 if re.match(patternEndNum, url) else 0\n",
    "    dict['start_flag'] = 1 if re.match(patternStart, url) else 0\n",
    "    dict['contains_date'] = 1 if re.match(pattern2, url) else 0\n",
    "    dict['end_with_html'] = 1 if re.match(patternEndHTML, url) else 0\n",
    "    return dict"
   ]
  },
  {
   "cell_type": "code",
   "execution_count": 42,
   "metadata": {},
   "outputs": [],
   "source": [
    "def getPredict(url):\n",
    "    urlFea = get_features_test(url)\n",
    "    cases = []\n",
    "    cases.append(urlFea)\n",
    "    df = pd.DataFrame(cases)\n",
    "    train_feature = df[f_names]\n",
    "    return model_us_test.predict(train_feature)[0]"
   ]
  },
  {
   "cell_type": "code",
   "execution_count": 43,
   "metadata": {},
   "outputs": [
    {
     "name": "stdout",
     "output_type": "stream",
     "text": [
      "<generator object Tokenizer.cut_for_search at 0x1379e2048>\n",
      "0\n"
     ]
    }
   ],
   "source": [
    "print(getPredict('https://www.mediacongo.net//articles-actualite-9_societe.html'))"
   ]
  },
  {
   "cell_type": "code",
   "execution_count": null,
   "metadata": {},
   "outputs": [],
   "source": []
  }
 ],
 "metadata": {
  "kernelspec": {
   "display_name": "Python 3",
   "language": "python",
   "name": "python3"
  },
  "language_info": {
   "codemirror_mode": {
    "name": "ipython",
    "version": 3
   },
   "file_extension": ".py",
   "mimetype": "text/x-python",
   "name": "python",
   "nbconvert_exporter": "python",
   "pygments_lexer": "ipython3",
   "version": "3.6.8"
  }
 },
 "nbformat": 4,
 "nbformat_minor": 5
}
